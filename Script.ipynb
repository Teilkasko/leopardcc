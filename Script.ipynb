{
 "cells": [
  {
   "cell_type": "code",
   "execution_count": 3,
   "metadata": {},
   "outputs": [],
   "source": [
    "import subprocess\n",
    "import json\n",
    "import os"
   ]
  },
  {
   "cell_type": "code",
   "execution_count": 14,
   "metadata": {},
   "outputs": [],
   "source": [
    "def compute_cyclomatic_complexity(file_path):\n",
    "    try:\n",
    "        result = subprocess.run(['npx cyclomatic-complexity ' + file_path + '\\'/**/*.[tj]s\\'' + ' -j'], shell=True, capture_output=True, text=True, check=True)\n",
    "        complexity_data = json.loads(result.stdout)\n",
    "        \n",
    "        files = complexity_data\n",
    "        complexity_info = [{'name': file['file'], 'cyclomatic': file['complexitySum']} for file in files]\n",
    "        \n",
    "        return complexity_info\n",
    "    \n",
    "    except subprocess.CalledProcessError as e:\n",
    "        print(f\"An error occurred: {e}\")\n",
    "        return None"
   ]
  },
  {
   "cell_type": "code",
   "execution_count": 25,
   "metadata": {},
   "outputs": [
    {
     "name": "stdout",
     "output_type": "stream",
     "text": [
      "Module /media/lebkuchen/ba3cb2a9-fcaa-4daf-8c11-e1006cc10771/Repos/express/lib/response.js has a cyclomatic complexity of 229\n",
      "Module /media/lebkuchen/ba3cb2a9-fcaa-4daf-8c11-e1006cc10771/Repos/express/lib/router/index.js has a cyclomatic complexity of 144\n",
      "Module /media/lebkuchen/ba3cb2a9-fcaa-4daf-8c11-e1006cc10771/Repos/express/lib/application.js has a cyclomatic complexity of 94\n",
      "Module /media/lebkuchen/ba3cb2a9-fcaa-4daf-8c11-e1006cc10771/Repos/express/lib/request.js has a cyclomatic complexity of 64\n",
      "Module /media/lebkuchen/ba3cb2a9-fcaa-4daf-8c11-e1006cc10771/Repos/express/lib/utils.js has a cyclomatic complexity of 47\n",
      "Module /media/lebkuchen/ba3cb2a9-fcaa-4daf-8c11-e1006cc10771/Repos/express/lib/router/route.js has a cyclomatic complexity of 45\n",
      "Module /media/lebkuchen/ba3cb2a9-fcaa-4daf-8c11-e1006cc10771/Repos/express/lib/router/layer.js has a cyclomatic complexity of 35\n",
      "Module /media/lebkuchen/ba3cb2a9-fcaa-4daf-8c11-e1006cc10771/Repos/express/lib/view.js has a cyclomatic complexity of 33\n",
      "Module /media/lebkuchen/ba3cb2a9-fcaa-4daf-8c11-e1006cc10771/Repos/express/lib/middleware/query.js has a cyclomatic complexity of 10\n",
      "Module /media/lebkuchen/ba3cb2a9-fcaa-4daf-8c11-e1006cc10771/Repos/express/lib/middleware/init.js has a cyclomatic complexity of 7\n",
      "Module /media/lebkuchen/ba3cb2a9-fcaa-4daf-8c11-e1006cc10771/Repos/express/lib/express.js has a cyclomatic complexity of 6\n"
     ]
    }
   ],
   "source": [
    "def main():\n",
    "  # Measure test coverage before changes\n",
    "  # Measure complexity of code files\n",
    "  # Have LLM refactor file\n",
    "  # Measure test coverage after changes\n",
    "  # Measure complexity after changes\n",
    "  # Provide summary of how values have changed\n",
    "\n",
    "  directory = '/media/lebkuchen/ba3cb2a9-fcaa-4daf-8c11-e1006cc10771/Repos/express/lib'\n",
    "  complexity_info = compute_cyclomatic_complexity(directory)\n",
    "\n",
    "  for info in sorted(complexity_info, key=lambda info: info['cyclomatic'], reverse=True):\n",
    "      print(f\"Module {info['name']} has a cyclomatic complexity of {info['cyclomatic']}\")\n",
    "\n",
    "if __name__ == \"__main__\":\n",
    "    main()\n"
   ]
  }
 ],
 "metadata": {
  "kernelspec": {
   "display_name": ".venv",
   "language": "python",
   "name": "python3"
  },
  "language_info": {
   "codemirror_mode": {
    "name": "ipython",
    "version": 3
   },
   "file_extension": ".py",
   "mimetype": "text/x-python",
   "name": "python",
   "nbconvert_exporter": "python",
   "pygments_lexer": "ipython3",
   "version": "3.10.12"
  }
 },
 "nbformat": 4,
 "nbformat_minor": 2
}
