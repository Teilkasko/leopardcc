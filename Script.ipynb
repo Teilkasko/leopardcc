{
 "cells": [
  {
   "cell_type": "code",
   "execution_count": 1,
   "metadata": {},
   "outputs": [],
   "source": [
    "import subprocess\n",
    "import lizard\n",
    "from lizard import FunctionInfo\n",
    "import json\n",
    "import shutil\n",
    "import os\n",
    "import functools\n",
    "import operator\n",
    "from OpenAIWrapper import OpenAIWrapper\n",
    "import re\n",
    "import datetime\n",
    "import math"
   ]
  },
  {
   "cell_type": "code",
   "execution_count": 2,
   "metadata": {},
   "outputs": [],
   "source": [
    "def create_copy_of_project(file_path: str, copy_suffix: str ='-copy') -> None:\n",
    "  destination_path = file_path + copy_suffix\n",
    "  \n",
    "  if os.path.exists(destination_path):\n",
    "    shutil.rmtree(destination_path)\n",
    "  \n",
    "  ignore_patterns = shutil.ignore_patterns('.git')\n",
    "  return shutil.copytree(file_path, destination_path, dirs_exist_ok=True, ignore=ignore_patterns)"
   ]
  },
  {
   "cell_type": "code",
   "execution_count": 3,
   "metadata": {},
   "outputs": [],
   "source": [
    "def measure_test_coverage(project_dir: str):\n",
    "  try:\n",
    "    subprocess.run(['cd ' + project_dir + ' && npx nyc --exclude examples --exclude test --exclude benchmarks --reporter=json-summary npm test'], shell=True, capture_output=True, text=True, check=True)\n",
    "    with open(project_dir + '/coverage/coverage-summary.json', \"r\") as coverage_summary: \n",
    "      coverage_info = json.load(coverage_summary)\n",
    "    \n",
    "    coverage_info_cleansed = dict()\n",
    "    for module in coverage_info:\n",
    "      coverage_info_cleansed[module.replace(project_dir, '')] = {'coverage': coverage_info[module]}\n",
    "      \n",
    "    return coverage_info_cleansed\n",
    "    \n",
    "  except subprocess.CalledProcessError as e:\n",
    "    print(f\"An error occurred: {e}\")\n",
    "    return None  "
   ]
  },
  {
   "cell_type": "code",
   "execution_count": 4,
   "metadata": {},
   "outputs": [],
   "source": [
    "def compute_cyclomatic_complexity(project_dir: str, code_dir: str) -> list[FunctionInfo]:\n",
    "  extensions = lizard.get_extensions(extension_names=[\"io\"])\n",
    "  analysis = lizard.analyze(paths=[project_dir + code_dir], exts=extensions)\n",
    "  \n",
    "  functions = list()\n",
    "  for file in list(analysis):\n",
    "    for function in file.function_list:\n",
    "      functions.append(function)\n",
    "  \n",
    "  return functions"
   ]
  },
  {
   "cell_type": "code",
   "execution_count": 5,
   "metadata": {},
   "outputs": [],
   "source": [
    "def find_most_complex_function(functions: list[FunctionInfo]) -> FunctionInfo:\n",
    "  result = sorted(functions, key=lambda fun: fun.cyclomatic_complexity, reverse=True)\n",
    "  return result[0]"
   ]
  },
  {
   "cell_type": "code",
   "execution_count": 6,
   "metadata": {},
   "outputs": [],
   "source": [
    "def extract_function_code(function: FunctionInfo) -> str:\n",
    "  file = open(function.filename)\n",
    "  code = file.readlines()\n",
    "  function_lines = code[function.start_line - 1:function.end_line]\n",
    "  function_code = functools.reduce(operator.add, function_lines)\n",
    "  return function_code"
   ]
  },
  {
   "cell_type": "code",
   "execution_count": 7,
   "metadata": {},
   "outputs": [],
   "source": [
    "def refactor_function(function_code: str, wrapper: OpenAIWrapper) -> str:\n",
    "  prompt = \"\"\"```javascript\n",
    "  {code}\n",
    "  ```\n",
    "  Refactor the provided javascript method to enhance its readability and maintainability. \n",
    "  You can assume that the given method is functionally correct. Ensure that you do not alter \n",
    "  the external behavior of the method, maintaining both syntactic and semantic correctness.\n",
    "  Provide the javascript method within a code block. Avoid using natural language explanations.\n",
    "  \"\"\".format(code=function_code)\n",
    "  \n",
    "  improved_code = wrapper.send_message(prompt)\n",
    "  \n",
    "  code_without_backticks = improved_code.replace(\"```javascript\\n\", \"\").replace(\"\\n```\", \"\")\n",
    "  return code_without_backticks"
   ]
  },
  {
   "cell_type": "code",
   "execution_count": 8,
   "metadata": {},
   "outputs": [],
   "source": [
    "def patch_code(file_path: str, old_code: str, new_code: str) -> None:\n",
    "  with open(file_path, 'r') as file:\n",
    "    filedata = file.read()\n",
    "  \n",
    "  filedata = filedata.replace(old_code, new_code)\n",
    "\n",
    "  with open(file_path, 'w') as file:\n",
    "    file.write(filedata)"
   ]
  },
  {
   "cell_type": "code",
   "execution_count": 9,
   "metadata": {},
   "outputs": [],
   "source": [
    "def get_test_stacktrace(project_dir: str) -> None | str:\n",
    "  try:\n",
    "    subprocess.run(['cd ' + project_dir + ' && npm test'], shell=True, capture_output=True, text=True, check=True)\n",
    "    return None\n",
    "    \n",
    "  except subprocess.CalledProcessError as e:\n",
    "    stdout_cleaned = re.sub('\\[[0-9;]+[a-zA-Z]', '', e.stdout)\n",
    "    stdout_no_esc = re.sub('\\u001b', '', stdout_cleaned)\n",
    "    stdout_filtered = re.sub('(.*\\n)+.*' + str(e.returncode) + ' failing', '', stdout_no_esc)\n",
    "    return stdout_filtered"
   ]
  },
  {
   "cell_type": "code",
   "execution_count": 13,
   "metadata": {},
   "outputs": [
    {
     "name": "stdout",
     "output_type": "stream",
     "text": [
      "Conversation history saved to conversation-logs/2024-10-26-16-57-41.json\n"
     ]
    }
   ],
   "source": [
    "def main() -> None:\n",
    "  # Measure test coverage before changes\n",
    "  # Measure complexity of code files\n",
    "  # Have LLM refactor file\n",
    "  # see if tests pass\n",
    "  # Measure test coverage after changes\n",
    "  # Measure complexity after changes\n",
    "  # Provide summary of how values have changed\n",
    "\n",
    "  project_dir = '/media/lebkuchen/storage-disk/Repos/express'\n",
    "  code_dir = '/lib'\n",
    "  \n",
    "  key_file = open('openai-key.txt', \"r\")\n",
    "  api_key = key_file.read()\n",
    "  wrapper = OpenAIWrapper(api_key=api_key, model=\"gpt-4o-mini\", max_context_length=math.inf)\n",
    "\n",
    "  #coverage_info = measure_test_coverage(project_dir)\n",
    "  complexity_info = compute_cyclomatic_complexity(project_dir, code_dir)\n",
    "  most_complex = find_most_complex_function(complexity_info)\n",
    "  most_complex_code = extract_function_code(most_complex)\n",
    "  \n",
    "  refactored_code = refactor_function(most_complex_code, wrapper)\n",
    "  \n",
    "  copy_suffix='-copy'\n",
    "  project_copy_dir = create_copy_of_project(project_dir, copy_suffix=copy_suffix)\n",
    "  \n",
    "  patch_code(file_path=most_complex.filename.replace(project_dir, project_copy_dir), old_code=most_complex_code, new_code=refactored_code)\n",
    "  \n",
    "  filename = datetime.datetime.now(datetime.timezone.utc).strftime(\"%Y-%m-%d-%H-%M-%S\") + '.json'\n",
    "  wrapper.save_history_to_json('conversation-logs/' + filename)\n",
    "\n",
    "if __name__ == \"__main__\":\n",
    "    main()\n"
   ]
  }
 ],
 "metadata": {
  "kernelspec": {
   "display_name": ".venv",
   "language": "python",
   "name": "python3"
  },
  "language_info": {
   "codemirror_mode": {
    "name": "ipython",
    "version": 3
   },
   "file_extension": ".py",
   "mimetype": "text/x-python",
   "name": "python",
   "nbconvert_exporter": "python",
   "pygments_lexer": "ipython3",
   "version": "3.10.12"
  }
 },
 "nbformat": 4,
 "nbformat_minor": 2
}
