{
 "cells": [
  {
   "cell_type": "code",
   "execution_count": 2,
   "metadata": {},
   "outputs": [],
   "source": [
    "import subprocess\n",
    "import lizard\n",
    "import json\n",
    "import shutil\n",
    "from openai import OpenAI"
   ]
  },
  {
   "cell_type": "code",
   "execution_count": 20,
   "metadata": {},
   "outputs": [],
   "source": [
    "def create_copy_of_project(file_path):\n",
    "  ignore_patterns = shutil.ignore_patterns('.*')\n",
    "  return shutil.copytree(file_path, file_path + '-copy', dirs_exist_ok=True, ignore=ignore_patterns)"
   ]
  },
  {
   "cell_type": "code",
   "execution_count": 31,
   "metadata": {},
   "outputs": [],
   "source": [
    "def measure_test_coverage(project_dir):\n",
    "  try:\n",
    "    subprocess.run(['cd ' + project_dir + ' && npx nyc --exclude examples --exclude test --exclude benchmarks --reporter=json-summary npm test'], shell=True, capture_output=True, text=True, check=True)\n",
    "    with open(project_dir + '/coverage/coverage-summary.json', \"r\") as coverage_summary: \n",
    "      coverage_info = json.load(coverage_summary)\n",
    "    \n",
    "    coverage_info_cleansed = dict()\n",
    "    for module in coverage_info:\n",
    "      coverage_info_cleansed[module.replace(project_dir, '')] = {'coverage': coverage_info[module]}\n",
    "      \n",
    "    return coverage_info_cleansed\n",
    "    \n",
    "  except subprocess.CalledProcessError as e:\n",
    "    print(f\"An error occurred: {e}\")\n",
    "    return None  "
   ]
  },
  {
   "cell_type": "code",
   "execution_count": 39,
   "metadata": {},
   "outputs": [],
   "source": [
    "def compute_cyclomatic_complexity(project_dir, code_dir):\n",
    "  analysis = lizard.analyze(paths=[project_dir + code_dir])\n",
    "  \n",
    "  functions = list()\n",
    "  for file in list(analysis):\n",
    "    for function in file.function_list:\n",
    "      functions.append(function)\n",
    "  \n",
    "  return functions"
   ]
  },
  {
   "cell_type": "code",
   "execution_count": 53,
   "metadata": {},
   "outputs": [],
   "source": [
    "def find_most_complex_function(functions):\n",
    "  result = sorted(functions, key=lambda fun: fun.cyclomatic_complexity, reverse=True)\n",
    "  return result[0]"
   ]
  },
  {
   "cell_type": "code",
   "execution_count": 54,
   "metadata": {},
   "outputs": [
    {
     "name": "stdout",
     "output_type": "stream",
     "text": [
      "{'cyclomatic_complexity': 24, 'nloc': 73, 'token_count': 425, 'name': 'send', 'long_name': 'send ( body )', 'start_line': 114, 'end_line': 214, 'full_parameters': ['body'], 'filename': '/media/lebkuchen/ba3cb2a9-fcaa-4daf-8c11-e1006cc10771/Repos/express/lib/response.js', 'top_nesting_level': 0, 'fan_in': 0, 'fan_out': 0, 'general_fan_out': 0}\n"
     ]
    }
   ],
   "source": [
    "def main():\n",
    "  # Measure test coverage before changes\n",
    "  # Measure complexity of code files\n",
    "  # Have LLM refactor file\n",
    "  # see if tests pass\n",
    "  # Measure test coverage after changes\n",
    "  # Measure complexity after changes\n",
    "  # Provide summary of how values have changed\n",
    "\n",
    "  project_dir = '/media/lebkuchen/ba3cb2a9-fcaa-4daf-8c11-e1006cc10771/Repos/express'\n",
    "  code_dir = '/lib'\n",
    "\n",
    "  #coverage_info = measure_test_coverage(project_dir)\n",
    "  complexity_info = compute_cyclomatic_complexity(project_dir, code_dir)\n",
    "  most_complex = find_most_complex_function(complexity_info)\n",
    "  \n",
    "  # project_copy_dir = create_copy_of_project(project_dir)\n",
    "  \n",
    "if __name__ == \"__main__\":\n",
    "    main()\n"
   ]
  },
  {
   "cell_type": "code",
   "execution_count": 56,
   "metadata": {},
   "outputs": [],
   "source": [
    "key_file = open('openai-key.txt', \"r\")\n",
    "api_key = key_file.read() \n",
    "client = OpenAI(api_key=api_key)\n",
    "\n",
    "file_dir = '/media/lebkuchen/ba3cb2a9-fcaa-4daf-8c11-e1006cc10771/Repos/express/lib/view.js'\n",
    "\n",
    "with open(file_dir, \"r\") as code_file:\n",
    "   view = client.chat.completions.create(\n",
    "    model=\"gpt-4o-mini\",\n",
    "    messages=[\n",
    "      {\"role\": \"system\", \"content\": \"Refactor the provided javascript source code file in a way that its cyclomatic complexity is reduced\"},\n",
    "      {\"role\": \"user\", \"content\": code_file.read()}\n",
    "    ]\n",
    "  )"
   ]
  }
 ],
 "metadata": {
  "kernelspec": {
   "display_name": ".venv",
   "language": "python",
   "name": "python3"
  },
  "language_info": {
   "codemirror_mode": {
    "name": "ipython",
    "version": 3
   },
   "file_extension": ".py",
   "mimetype": "text/x-python",
   "name": "python",
   "nbconvert_exporter": "python",
   "pygments_lexer": "ipython3",
   "version": "3.10.12"
  }
 },
 "nbformat": 4,
 "nbformat_minor": 2
}
