{
 "cells": [
  {
   "cell_type": "code",
   "execution_count": 1,
   "metadata": {},
   "outputs": [],
   "source": [
    "import subprocess\n",
    "import json\n",
    "import os"
   ]
  },
  {
   "cell_type": "code",
   "execution_count": 21,
   "metadata": {},
   "outputs": [],
   "source": [
    "def measure_test_coverage(file_path):\n",
    "  try:\n",
    "    subprocess.run(['cd ' + file_path + ' && npx nyc --exclude examples --exclude test --exclude benchmarks --reporter=json-summary npm test'], shell=True, capture_output=True, text=True, check=True)\n",
    "    with open(file_path + '/coverage/coverage-summary.json', \"r\") as coverage_summary: \n",
    "      coverage_info = json.load(coverage_summary)\n",
    "    \n",
    "    return coverage_info\n",
    "    \n",
    "  except subprocess.CalledProcessError as e:\n",
    "    print(f\"An error occurred: {e}\")\n",
    "    return None  "
   ]
  },
  {
   "cell_type": "code",
   "execution_count": 17,
   "metadata": {},
   "outputs": [],
   "source": [
    "def compute_cyclomatic_complexity(file_path):\n",
    "  try:\n",
    "      result = subprocess.run(['npx cyclomatic-complexity ' + file_path + '\\'/**/*.[tj]s\\'' + ' -j'], shell=True, capture_output=True, text=True, check=True)\n",
    "      complexity_data = json.loads(result.stdout)\n",
    "      \n",
    "      files = complexity_data\n",
    "      complexity_info = [{'name': file['file'], 'cyclomatic': file['complexitySum']} for file in files]\n",
    "      \n",
    "      return complexity_info\n",
    "  \n",
    "  except subprocess.CalledProcessError as e:\n",
    "      print(f\"An error occurred: {e}\")\n",
    "      return None"
   ]
  },
  {
   "cell_type": "code",
   "execution_count": 24,
   "metadata": {},
   "outputs": [
    {
     "name": "stdout",
     "output_type": "stream",
     "text": [
      "Module total has a branch coverage of 97.05\n",
      "Module /media/lebkuchen/ba3cb2a9-fcaa-4daf-8c11-e1006cc10771/Repos/express/index.js has a branch coverage of 100\n",
      "Module /media/lebkuchen/ba3cb2a9-fcaa-4daf-8c11-e1006cc10771/Repos/express/lib/application.js has a branch coverage of 100\n",
      "Module /media/lebkuchen/ba3cb2a9-fcaa-4daf-8c11-e1006cc10771/Repos/express/lib/express.js has a branch coverage of 100\n",
      "Module /media/lebkuchen/ba3cb2a9-fcaa-4daf-8c11-e1006cc10771/Repos/express/lib/request.js has a branch coverage of 95.31\n",
      "Module /media/lebkuchen/ba3cb2a9-fcaa-4daf-8c11-e1006cc10771/Repos/express/lib/response.js has a branch coverage of 96.44\n",
      "Module /media/lebkuchen/ba3cb2a9-fcaa-4daf-8c11-e1006cc10771/Repos/express/lib/utils.js has a branch coverage of 100\n",
      "Module /media/lebkuchen/ba3cb2a9-fcaa-4daf-8c11-e1006cc10771/Repos/express/lib/view.js has a branch coverage of 95.83\n",
      "Module /media/lebkuchen/ba3cb2a9-fcaa-4daf-8c11-e1006cc10771/Repos/express/lib/middleware/init.js has a branch coverage of 100\n",
      "Module /media/lebkuchen/ba3cb2a9-fcaa-4daf-8c11-e1006cc10771/Repos/express/lib/middleware/query.js has a branch coverage of 100\n",
      "Module /media/lebkuchen/ba3cb2a9-fcaa-4daf-8c11-e1006cc10771/Repos/express/lib/router/index.js has a branch coverage of 97.22\n",
      "Module /media/lebkuchen/ba3cb2a9-fcaa-4daf-8c11-e1006cc10771/Repos/express/lib/router/layer.js has a branch coverage of 90\n",
      "Module /media/lebkuchen/ba3cb2a9-fcaa-4daf-8c11-e1006cc10771/Repos/express/lib/router/route.js has a branch coverage of 100\n",
      "\n",
      "Module /media/lebkuchen/ba3cb2a9-fcaa-4daf-8c11-e1006cc10771/Repos/express/lib/response.js has a cyclomatic complexity of 229\n",
      "Module /media/lebkuchen/ba3cb2a9-fcaa-4daf-8c11-e1006cc10771/Repos/express/lib/router/index.js has a cyclomatic complexity of 144\n",
      "Module /media/lebkuchen/ba3cb2a9-fcaa-4daf-8c11-e1006cc10771/Repos/express/lib/application.js has a cyclomatic complexity of 94\n",
      "Module /media/lebkuchen/ba3cb2a9-fcaa-4daf-8c11-e1006cc10771/Repos/express/lib/request.js has a cyclomatic complexity of 64\n",
      "Module /media/lebkuchen/ba3cb2a9-fcaa-4daf-8c11-e1006cc10771/Repos/express/lib/utils.js has a cyclomatic complexity of 47\n",
      "Module /media/lebkuchen/ba3cb2a9-fcaa-4daf-8c11-e1006cc10771/Repos/express/lib/router/route.js has a cyclomatic complexity of 45\n",
      "Module /media/lebkuchen/ba3cb2a9-fcaa-4daf-8c11-e1006cc10771/Repos/express/lib/router/layer.js has a cyclomatic complexity of 35\n",
      "Module /media/lebkuchen/ba3cb2a9-fcaa-4daf-8c11-e1006cc10771/Repos/express/lib/view.js has a cyclomatic complexity of 33\n",
      "Module /media/lebkuchen/ba3cb2a9-fcaa-4daf-8c11-e1006cc10771/Repos/express/lib/middleware/query.js has a cyclomatic complexity of 10\n",
      "Module /media/lebkuchen/ba3cb2a9-fcaa-4daf-8c11-e1006cc10771/Repos/express/lib/middleware/init.js has a cyclomatic complexity of 7\n",
      "Module /media/lebkuchen/ba3cb2a9-fcaa-4daf-8c11-e1006cc10771/Repos/express/lib/express.js has a cyclomatic complexity of 6\n"
     ]
    }
   ],
   "source": [
    "def main():\n",
    "  # Measure test coverage before changes\n",
    "  # Measure complexity of code files\n",
    "  # Have LLM refactor file\n",
    "  # see if tests pass\n",
    "  # Measure test coverage after changes\n",
    "  # Measure complexity after changes\n",
    "  # Provide summary of how values have changed\n",
    "\n",
    "  project_dir = '/media/lebkuchen/ba3cb2a9-fcaa-4daf-8c11-e1006cc10771/Repos/express'\n",
    "  code_dir = '/lib'\n",
    "  \n",
    "  coverage_info = measure_test_coverage(project_dir)\n",
    "  complexity_info = compute_cyclomatic_complexity(project_dir + code_dir)\n",
    "\n",
    "  for module in coverage_info:\n",
    "      print(f\"Module {module} has a branch coverage of {coverage_info[module]['branches']['pct']}\")\n",
    "  \n",
    "  print()\n",
    "  for info in sorted(complexity_info, key=lambda info: info['cyclomatic'], reverse=True):\n",
    "      print(f\"Module {info['name']} has a cyclomatic complexity of {info['cyclomatic']}\")\n",
    "\n",
    "if __name__ == \"__main__\":\n",
    "    main()\n"
   ]
  }
 ],
 "metadata": {
  "kernelspec": {
   "display_name": ".venv",
   "language": "python",
   "name": "python3"
  },
  "language_info": {
   "codemirror_mode": {
    "name": "ipython",
    "version": 3
   },
   "file_extension": ".py",
   "mimetype": "text/x-python",
   "name": "python",
   "nbconvert_exporter": "python",
   "pygments_lexer": "ipython3",
   "version": "3.10.12"
  }
 },
 "nbformat": 4,
 "nbformat_minor": 2
}
