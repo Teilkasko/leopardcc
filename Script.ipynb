{
 "cells": [
  {
   "cell_type": "code",
   "execution_count": 8,
   "metadata": {},
   "outputs": [],
   "source": [
    "import subprocess\n",
    "import json\n",
    "import os\n",
    "import shutil"
   ]
  },
  {
   "cell_type": "code",
   "execution_count": 20,
   "metadata": {},
   "outputs": [],
   "source": [
    "def create_copy_of_project(file_path):\n",
    "  ignore_patterns = shutil.ignore_patterns('.*')\n",
    "  return shutil.copytree(file_path, file_path + '-copy', dirs_exist_ok=True, ignore=ignore_patterns)"
   ]
  },
  {
   "cell_type": "code",
   "execution_count": 26,
   "metadata": {},
   "outputs": [],
   "source": [
    "def measure_test_coverage(project_dir):\n",
    "  try:\n",
    "    subprocess.run(['cd ' + project_dir + ' && npx nyc --exclude examples --exclude test --exclude benchmarks --reporter=json-summary npm test'], shell=True, capture_output=True, text=True, check=True)\n",
    "    with open(project_dir + '/coverage/coverage-summary.json', \"r\") as coverage_summary: \n",
    "      coverage_info = json.load(coverage_summary)\n",
    "    \n",
    "    coverage_info_cleansed = dict()\n",
    "    for module in coverage_info:\n",
    "      coverage_info_cleansed[module.replace(project_dir, '')] = coverage_info[module]\n",
    "      \n",
    "    return coverage_info_cleansed\n",
    "    \n",
    "  except subprocess.CalledProcessError as e:\n",
    "    print(f\"An error occurred: {e}\")\n",
    "    return None  "
   ]
  },
  {
   "cell_type": "code",
   "execution_count": 25,
   "metadata": {},
   "outputs": [],
   "source": [
    "def compute_cyclomatic_complexity(project_dir, code_dir):\n",
    "  try:\n",
    "      result = subprocess.run(['npx cyclomatic-complexity ' + project_dir + code_dir + '\\'/**/*.[tj]s\\'' + ' -j'], shell=True, capture_output=True, text=True, check=True)\n",
    "      complexity_data = json.loads(result.stdout)\n",
    "      \n",
    "      files = complexity_data\n",
    "      complexity_info = [{'name': file['file'].replace(project_dir, ''), 'cyclomatic': file['complexitySum']} for file in files]\n",
    "      \n",
    "      return complexity_info\n",
    "  \n",
    "  except subprocess.CalledProcessError as e:\n",
    "      print(f\"An error occurred: {e}\")\n",
    "      return None"
   ]
  },
  {
   "cell_type": "code",
   "execution_count": 24,
   "metadata": {},
   "outputs": [
    {
     "name": "stdout",
     "output_type": "stream",
     "text": [
      "Module total has a branch coverage of 97.05\n",
      "Module /index.js has a branch coverage of 100\n",
      "Module /lib/application.js has a branch coverage of 100\n",
      "Module /lib/express.js has a branch coverage of 100\n",
      "Module /lib/request.js has a branch coverage of 95.31\n",
      "Module /lib/response.js has a branch coverage of 96.44\n",
      "Module /lib/utils.js has a branch coverage of 100\n",
      "Module /lib/view.js has a branch coverage of 95.83\n",
      "Module /lib/middleware/init.js has a branch coverage of 100\n",
      "Module /lib/middleware/query.js has a branch coverage of 100\n",
      "Module /lib/router/index.js has a branch coverage of 97.22\n",
      "Module /lib/router/layer.js has a branch coverage of 90\n",
      "Module /lib/router/route.js has a branch coverage of 100\n",
      "\n",
      "Module /lib/response.js has a cyclomatic complexity of 229\n",
      "Module /lib/router/index.js has a cyclomatic complexity of 144\n",
      "Module /lib/application.js has a cyclomatic complexity of 94\n",
      "Module /lib/request.js has a cyclomatic complexity of 64\n",
      "Module /lib/utils.js has a cyclomatic complexity of 47\n",
      "Module /lib/router/route.js has a cyclomatic complexity of 45\n",
      "Module /lib/router/layer.js has a cyclomatic complexity of 35\n",
      "Module /lib/view.js has a cyclomatic complexity of 33\n",
      "Module /lib/middleware/query.js has a cyclomatic complexity of 10\n",
      "Module /lib/middleware/init.js has a cyclomatic complexity of 7\n",
      "Module /lib/express.js has a cyclomatic complexity of 6\n"
     ]
    }
   ],
   "source": [
    "def main():\n",
    "  # Measure test coverage before changes\n",
    "  # Measure complexity of code files\n",
    "  # Have LLM refactor file\n",
    "  # see if tests pass\n",
    "  # Measure test coverage after changes\n",
    "  # Measure complexity after changes\n",
    "  # Provide summary of how values have changed\n",
    "\n",
    "  project_dir = '/media/lebkuchen/ba3cb2a9-fcaa-4daf-8c11-e1006cc10771/Repos/express'\n",
    "  code_dir = '/lib'\n",
    "  project_copy_dir = create_copy_of_project(project_dir)\n",
    "\n",
    "  coverage_info = measure_test_coverage(project_dir)\n",
    "  complexity_info = compute_cyclomatic_complexity(project_dir, code_dir)\n",
    "\n",
    "  for module in coverage_info:\n",
    "      print(f\"Module {module} has a branch coverage of {coverage_info[module]['branches']['pct']}\")\n",
    "  \n",
    "  print('')\n",
    "  for info in sorted(complexity_info, key=lambda info: info['cyclomatic'], reverse=True):\n",
    "      print(f\"Module {info['name']} has a cyclomatic complexity of {info['cyclomatic']}\")\n",
    "\n",
    "if __name__ == \"__main__\":\n",
    "    main()\n"
   ]
  },
  {
   "cell_type": "code",
   "execution_count": 4,
   "metadata": {},
   "outputs": [],
   "source": [
    "from openai import OpenAI\n",
    "\n",
    "f = open('openai-key.txt', \"r\")\n",
    "api_key = f.read() \n",
    "client = OpenAI(api_key=api_key)\n",
    "\n",
    "response = client.chat.completions.create(\n",
    "  model=\"gpt-4o-mini\",\n",
    "  messages=[\n",
    "    {\"role\": \"system\", \"content\": \"Respond only in Haikus\"},\n",
    "    {\"role\": \"user\", \"content\": \"Summarize the achievements of Carl Ritter von Ghega\"}\n",
    "  ]\n",
    ")"
   ]
  },
  {
   "cell_type": "code",
   "execution_count": 7,
   "metadata": {},
   "outputs": [
    {
     "name": "stdout",
     "output_type": "stream",
     "text": [
      "Ritter von Ghega,  \n",
      "Tracks that span the mountains high,  \n",
      "Railways through the land.  \n",
      "\n",
      "A vision of speed,  \n",
      "Alpine tunnels carved with care,  \n",
      "Bridges touch the sky.  \n",
      "\n",
      "His engineering,  \n",
      "Inspired the world afar,  \n",
      "Railways, he did gift.\n"
     ]
    }
   ],
   "source": [
    "print(response.choices[0].message.content)"
   ]
  }
 ],
 "metadata": {
  "kernelspec": {
   "display_name": ".venv",
   "language": "python",
   "name": "python3"
  },
  "language_info": {
   "codemirror_mode": {
    "name": "ipython",
    "version": 3
   },
   "file_extension": ".py",
   "mimetype": "text/x-python",
   "name": "python",
   "nbconvert_exporter": "python",
   "pygments_lexer": "ipython3",
   "version": "3.10.12"
  }
 },
 "nbformat": 4,
 "nbformat_minor": 2
}
